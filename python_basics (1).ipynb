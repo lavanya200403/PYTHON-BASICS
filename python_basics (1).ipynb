{
  "nbformat": 4,
  "nbformat_minor": 0,
  "metadata": {
    "colab": {
      "provenance": []
    },
    "kernelspec": {
      "name": "python3",
      "display_name": "Python 3"
    },
    "language_info": {
      "name": "python"
    }
  },
  "cells": [
    {
      "cell_type": "markdown",
      "source": [
        "# Theory answers\n",
        "\n",
        "\n",
        "\n",
        "1.   What is Python, and why is it popular ?\n",
        "\n",
        "    -> python is a programming language which is used to give command or instruction to computer.\n",
        "\n",
        "    ->It is popular among corporate and IT(information technology)sector because it is simple to use and has vast libraries like pandas etc.\n",
        "\n",
        "2.   What is an interpreter in Python ?\n",
        "\n",
        "    -> interpreter is a program which runs the code.\n",
        "\n",
        "3.   What are pre-defined keywords in Python ?\n",
        "\n",
        "    -> Python has pre-defined keywords which are used are used for special purpose.\n",
        "    example; and ,or,true,false,type etc.\n",
        "\n",
        "4.   Can keywords be used as variable names ?\n",
        "\n",
        "    -> No , keywords are used for specific purpose and can not be used as variable names.\n",
        "\n",
        "5.  What is mutability in Python ?\n",
        "\n",
        "    ->An object/ or variable is a mutable object if its type can be changed .\n",
        "    Example; list\n",
        "\n",
        "6.  Why are lists mutable, but tuples are immutable?\n",
        "\n",
        "    ->Tuples are immutable because once they created it cannot be changable to insure the integrity of data.\n",
        "\n",
        "7.  What is the difference between “==” and “is” operators in Python ?\n",
        "\n",
        "    ->\"==\" it is a comparison tool used in coding to find wheather two objects are equal or not .On the other hand,\n",
        "    \"is\" is used to find whether the given condition is true or not.\n",
        "\n",
        "8.  What are logical operators in Python ?\n",
        "\n",
        "    -> \"And\" and \"or\" are logical operators.\n",
        "9.  What is type casting in Python ?\n",
        "\n",
        "    ->Type casting in python is used to change the type of object or different data type like float,integer,etc\n",
        "    \"string\" type cannot be changed.\n",
        "\n",
        "10.  What is the difference between implicit and explicit type casting ?\n",
        "\n",
        "    -> Implicit type casting means python itself has data type which is pre determined by the software itsself .\n",
        "    example; (5) is a integer.\n",
        "\n",
        "    -> Explicit type casting means to change the data type through command in the program.\n",
        "    example;\n",
        "    a = 5\n",
        "    type(str(a))\n",
        "\n",
        "11.  What is the purpose of conditional statements in Python ?\n",
        "\n",
        "    ->Conditional statements are used to execute a pre defined code when a specific situation occurs .\n",
        "    it execute the code only occurance of a specific or series of conditions.\n",
        "    example; if ,if else, while, for etc.\n",
        "\n",
        "12.  How does the elif statement work ?\n",
        "\n",
        "    -> through elif we can put multiple conditional statements .\n",
        "    It creates additional conditions to a code.\n",
        "\n",
        "13.  What is the difference between for and while loops ?\n",
        "\n",
        "    ->'while' loop is used to execute a command on loop until the condition satisfy\n",
        "    on the oher hand 'for' loop is used to iterate the sequence of elements ina a object or list.\n",
        "14.  Describe a scenario where a while loop is more suitable than a for loop.?\n",
        "\n",
        "    ->if you want to command multiple conditions then when is more suitable than 'for'\n",
        "    for example ; you want to create a'login page ' whare several conditions are required.\n",
        "\n",
        "\n",
        "   "
      ],
      "metadata": {
        "id": "gS5U3PlGqyWH"
      }
    },
    {
      "cell_type": "markdown",
      "source": [
        "#Practical answers"
      ],
      "metadata": {
        "id": "lZ32QdEv93OR"
      }
    },
    {
      "cell_type": "markdown",
      "source": [
        "#ANSWER-1"
      ],
      "metadata": {
        "id": "oRi-nuVTFbiw"
      }
    },
    {
      "cell_type": "code",
      "source": [
        "#Write a Python program to print \"Hello, World!\"\n",
        "print(\"hello,world!\")"
      ],
      "metadata": {
        "colab": {
          "base_uri": "https://localhost:8080/"
        },
        "id": "09_UQTK0-HET",
        "outputId": "048acc1b-41c3-486a-98a6-07788b3c804a"
      },
      "execution_count": null,
      "outputs": [
        {
          "output_type": "stream",
          "name": "stdout",
          "text": [
            "hello,world!\n"
          ]
        }
      ]
    },
    {
      "cell_type": "markdown",
      "source": [
        "#ANSWER-2"
      ],
      "metadata": {
        "id": "Mk8pbN0sFian"
      }
    },
    {
      "cell_type": "code",
      "source": [
        "#Write a Python program that displays your name and age\n",
        "print(\"name=lavanya\")\n",
        "print(\"age=21\")"
      ],
      "metadata": {
        "colab": {
          "base_uri": "https://localhost:8080/"
        },
        "id": "VYKmTZMm-e29",
        "outputId": "c66252f4-90a3-47f2-be36-4ba37ad08b87"
      },
      "execution_count": null,
      "outputs": [
        {
          "output_type": "stream",
          "name": "stdout",
          "text": [
            "name=lavanya\n",
            "age=21\n"
          ]
        }
      ]
    },
    {
      "cell_type": "markdown",
      "source": [
        "#ANSWER-3"
      ],
      "metadata": {
        "id": "EpbIKlTSFsor"
      }
    },
    {
      "cell_type": "code",
      "source": [
        "#Write code to print all the pre-defined keywords in Python using the keyword library?\n",
        "help(\"keywords\")"
      ],
      "metadata": {
        "colab": {
          "base_uri": "https://localhost:8080/"
        },
        "id": "dacPOTY9-fIS",
        "outputId": "def7f960-98ee-4fe1-f32e-53109877cb4d"
      },
      "execution_count": null,
      "outputs": [
        {
          "output_type": "stream",
          "name": "stdout",
          "text": [
            "\n",
            "Here is a list of the Python keywords.  Enter any keyword to get more help.\n",
            "\n",
            "False               class               from                or\n",
            "None                continue            global              pass\n",
            "True                def                 if                  raise\n",
            "and                 del                 import              return\n",
            "as                  elif                in                  try\n",
            "assert              else                is                  while\n",
            "async               except              lambda              with\n",
            "await               finally             nonlocal            yield\n",
            "break               for                 not                 \n",
            "\n"
          ]
        }
      ]
    },
    {
      "cell_type": "markdown",
      "source": [
        "#ANSWER-4"
      ],
      "metadata": {
        "id": "uwuadx-LFx7q"
      }
    },
    {
      "cell_type": "code",
      "source": [
        "#Write a program that checks if a given word is a Python keyword.\n",
        "a = string\n",
        " #a keyword cannot be used as variable name.Thats why it shoes error ."
      ],
      "metadata": {
        "colab": {
          "base_uri": "https://localhost:8080/",
          "height": 158
        },
        "id": "GsHHN_eJ_54U",
        "outputId": "7f0712b6-1d3e-4286-d7b2-5951efb16691"
      },
      "execution_count": null,
      "outputs": [
        {
          "output_type": "error",
          "ename": "NameError",
          "evalue": "name 'string' is not defined",
          "traceback": [
            "\u001b[0;31m---------------------------------------------------------------------------\u001b[0m",
            "\u001b[0;31mNameError\u001b[0m                                 Traceback (most recent call last)",
            "\u001b[0;32m<ipython-input-16-cd29c1382080>\u001b[0m in \u001b[0;36m<cell line: 0>\u001b[0;34m()\u001b[0m\n\u001b[1;32m      1\u001b[0m \u001b[0;31m#Write a program that checks if a given word is a Python keyword.\u001b[0m\u001b[0;34m\u001b[0m\u001b[0;34m\u001b[0m\u001b[0m\n\u001b[0;32m----> 2\u001b[0;31m \u001b[0ma\u001b[0m \u001b[0;34m=\u001b[0m \u001b[0mstring\u001b[0m\u001b[0;34m\u001b[0m\u001b[0;34m\u001b[0m\u001b[0m\n\u001b[0m",
            "\u001b[0;31mNameError\u001b[0m: name 'string' is not defined"
          ]
        }
      ]
    },
    {
      "cell_type": "markdown",
      "source": [
        "#ANSWER-5"
      ],
      "metadata": {
        "id": "qw7M0P3DF5a-"
      }
    },
    {
      "cell_type": "code",
      "source": [
        "# Create a list and tuple in Python, and demonstrate how attempting to change an element works differently for each?\n",
        "a = [1,5,\"rahul\",9.5] #LIST\n",
        "b = (2,6,\"ram\",1.2) #TUPLE\n"
      ],
      "metadata": {
        "id": "jzImXhrr_6Hu"
      },
      "execution_count": null,
      "outputs": []
    },
    {
      "cell_type": "code",
      "source": [
        "a[0] = 5 #CHANGE ELEMENT OF LIST"
      ],
      "metadata": {
        "id": "r5MTFWjzEw7_"
      },
      "execution_count": null,
      "outputs": []
    },
    {
      "cell_type": "code",
      "source": [
        "a"
      ],
      "metadata": {
        "colab": {
          "base_uri": "https://localhost:8080/"
        },
        "id": "05DVBs9gFUUt",
        "outputId": "18876f5a-f5aa-4a85-8eb7-df0fba4b85d6"
      },
      "execution_count": null,
      "outputs": [
        {
          "output_type": "execute_result",
          "data": {
            "text/plain": [
              "[5, 5, 'rahul', 9.5]"
            ]
          },
          "metadata": {},
          "execution_count": 38
        }
      ]
    },
    {
      "cell_type": "code",
      "source": [
        "b(0) = 5 #CHANGE ELEMENT OF TUPLE"
      ],
      "metadata": {
        "colab": {
          "base_uri": "https://localhost:8080/",
          "height": 106
        },
        "id": "5YN1ZkX3_6LJ",
        "outputId": "b2f7a9aa-00c5-41ed-c3cd-6b1a923144d7"
      },
      "execution_count": null,
      "outputs": [
        {
          "output_type": "error",
          "ename": "SyntaxError",
          "evalue": "cannot assign to function call here. Maybe you meant '==' instead of '='? (<ipython-input-41-92cef5b66feb>, line 1)",
          "traceback": [
            "\u001b[0;36m  File \u001b[0;32m\"<ipython-input-41-92cef5b66feb>\"\u001b[0;36m, line \u001b[0;32m1\u001b[0m\n\u001b[0;31m    b(0) = 5\u001b[0m\n\u001b[0m    ^\u001b[0m\n\u001b[0;31mSyntaxError\u001b[0m\u001b[0;31m:\u001b[0m cannot assign to function call here. Maybe you meant '==' instead of '='?\n"
          ]
        }
      ]
    },
    {
      "cell_type": "markdown",
      "source": [
        "#ANSWER-6"
      ],
      "metadata": {
        "id": "RPMzO0YbGBSE"
      }
    },
    {
      "cell_type": "code",
      "source": [
        "# Write a function to demonstrate the behavior of mutable and immutable arguments?\n",
        "aa = [1,1.9]\n",
        "bb = (2,2.2)"
      ],
      "metadata": {
        "id": "evJCfF2zC5GJ"
      },
      "execution_count": null,
      "outputs": []
    },
    {
      "cell_type": "code",
      "source": [
        "aa[0] = 5   #mutable\n",
        "type(str(aa[0]))"
      ],
      "metadata": {
        "colab": {
          "base_uri": "https://localhost:8080/"
        },
        "id": "0_N6Rj9BHhWG",
        "outputId": "61164975-6aa3-42d7-8f12-606c0c10a538"
      },
      "execution_count": null,
      "outputs": [
        {
          "output_type": "execute_result",
          "data": {
            "text/plain": [
              "str"
            ]
          },
          "metadata": {},
          "execution_count": 59
        }
      ]
    },
    {
      "cell_type": "code",
      "source": [
        "aa\n"
      ],
      "metadata": {
        "colab": {
          "base_uri": "https://localhost:8080/"
        },
        "id": "Q08XsUJBHhcH",
        "outputId": "a1716583-5d60-47c3-be1c-3135c1eaf93b"
      },
      "execution_count": null,
      "outputs": [
        {
          "output_type": "execute_result",
          "data": {
            "text/plain": [
              "[5, 1.9]"
            ]
          },
          "metadata": {},
          "execution_count": 57
        }
      ]
    },
    {
      "cell_type": "code",
      "source": [
        "bb(1) = 6  #immutable"
      ],
      "metadata": {
        "colab": {
          "base_uri": "https://localhost:8080/",
          "height": 106
        },
        "id": "4xFImsXZHhfj",
        "outputId": "c881cf83-eb12-42a2-95f8-fe97bd846512"
      },
      "execution_count": null,
      "outputs": [
        {
          "output_type": "error",
          "ename": "SyntaxError",
          "evalue": "cannot assign to function call here. Maybe you meant '==' instead of '='? (<ipython-input-58-dba6b7af35d6>, line 1)",
          "traceback": [
            "\u001b[0;36m  File \u001b[0;32m\"<ipython-input-58-dba6b7af35d6>\"\u001b[0;36m, line \u001b[0;32m1\u001b[0m\n\u001b[0;31m    bb(1) = 6\u001b[0m\n\u001b[0m    ^\u001b[0m\n\u001b[0;31mSyntaxError\u001b[0m\u001b[0;31m:\u001b[0m cannot assign to function call here. Maybe you meant '==' instead of '='?\n"
          ]
        }
      ]
    },
    {
      "cell_type": "markdown",
      "source": [
        "#ANSWER-7"
      ],
      "metadata": {
        "id": "Dv8vfDMcLzdB"
      }
    },
    {
      "cell_type": "code",
      "source": [
        "a = 19\n",
        "b = 57\n"
      ],
      "metadata": {
        "id": "v3ZaI8AQLyMM"
      },
      "execution_count": null,
      "outputs": []
    },
    {
      "cell_type": "code",
      "source": [
        "a+b"
      ],
      "metadata": {
        "colab": {
          "base_uri": "https://localhost:8080/"
        },
        "id": "4tzweUT5Lydz",
        "outputId": "51c37a79-45d0-4f5c-f365-64f21f5ac26c"
      },
      "execution_count": null,
      "outputs": [
        {
          "output_type": "execute_result",
          "data": {
            "text/plain": [
              "76"
            ]
          },
          "metadata": {},
          "execution_count": 63
        }
      ]
    },
    {
      "cell_type": "markdown",
      "source": [
        "#ANSWER-8"
      ],
      "metadata": {
        "id": "T7eqHLeXMHmR"
      }
    },
    {
      "cell_type": "code",
      "source": [
        " #Write a program to demonstrate the use of logical operators.?\n",
        " #two types of logical operator\n",
        " #\"and\"\n",
        " x = 5\n",
        " y = 10\n",
        " #both condition are true .\n",
        " if x<10 and y>5 :\n",
        "    print(\"number is between 5to 10\")\n",
        "\n",
        " if x>10 or y>5 :\n",
        "    print(\"only one condition is true\")\n"
      ],
      "metadata": {
        "colab": {
          "base_uri": "https://localhost:8080/"
        },
        "id": "nac6hlflMGMO",
        "outputId": "60018516-182b-4d76-8f44-c0e3ef4e14a0"
      },
      "execution_count": null,
      "outputs": [
        {
          "output_type": "stream",
          "name": "stdout",
          "text": [
            "number is between 5to 10\n",
            "only one condition is true\n"
          ]
        }
      ]
    },
    {
      "cell_type": "markdown",
      "source": [
        "#ANSWER-9"
      ],
      "metadata": {
        "id": "dMDiKyLjQIV6"
      }
    },
    {
      "cell_type": "code",
      "source": [
        "# Write a Python program to convert user input from string to integer, float, and boolean types.\n",
        "convert = str(input(\"write\"))"
      ],
      "metadata": {
        "id": "0M8uo8L9Pdkb"
      },
      "execution_count": null,
      "outputs": []
    },
    {
      "cell_type": "markdown",
      "source": [
        "#ANSWER-10"
      ],
      "metadata": {
        "id": "PKdDpS8iRz1R"
      }
    },
    {
      "cell_type": "code",
      "source": [
        "#Write code to demonstrate type casting with list elements.\n",
        "list_1 = [1,2.3,\"raj\"]  #it is a list\n",
        "type(list_1[1])\n"
      ],
      "metadata": {
        "colab": {
          "base_uri": "https://localhost:8080/"
        },
        "id": "OQm1-XZnRo93",
        "outputId": "49d4fac1-3e6c-40b9-b4ea-798408bb388f"
      },
      "execution_count": null,
      "outputs": [
        {
          "output_type": "execute_result",
          "data": {
            "text/plain": [
              "float"
            ]
          },
          "metadata": {},
          "execution_count": 86
        }
      ]
    },
    {
      "cell_type": "code",
      "source": [
        "type(int(list_1[1]))  #type casting float into integer"
      ],
      "metadata": {
        "colab": {
          "base_uri": "https://localhost:8080/"
        },
        "id": "5mpwqOWRRpA9",
        "outputId": "88b6a46d-63f2-47d6-88dd-80ff9a8db441"
      },
      "execution_count": null,
      "outputs": [
        {
          "output_type": "execute_result",
          "data": {
            "text/plain": [
              "int"
            ]
          },
          "metadata": {},
          "execution_count": 85
        }
      ]
    },
    {
      "cell_type": "markdown",
      "source": [
        "#ANSWER-11"
      ],
      "metadata": {
        "id": "FRU1qDlhTJ20"
      }
    },
    {
      "cell_type": "code",
      "source": [
        "#Write a program that checks if a number is positive, negative, or zero\n",
        "num = float(input(\"Enter a number: \"))\n",
        "if num > 0:\n",
        "   print(\"Positive number\")\n",
        "elif num == 0:\n",
        "   print(\"Zero\")\n",
        "else:\n",
        "   print(\"Negative number\")\n"
      ],
      "metadata": {
        "colab": {
          "base_uri": "https://localhost:8080/"
        },
        "id": "eQdq0QhpRpFA",
        "outputId": "1f84e8c9-c09d-4258-e311-0fa5b0346a1c"
      },
      "execution_count": null,
      "outputs": [
        {
          "output_type": "stream",
          "name": "stdout",
          "text": [
            "Enter a number: 5\n",
            "Positive number\n"
          ]
        }
      ]
    },
    {
      "cell_type": "markdown",
      "source": [
        "#ANSWER-12"
      ],
      "metadata": {
        "id": "Hfz2D679XsgM"
      }
    },
    {
      "cell_type": "code",
      "source": [
        "#Write a for loop to print numbers from 1 to 10.\n",
        "for i in range(1,11):\n",
        "   print(i)"
      ],
      "metadata": {
        "colab": {
          "base_uri": "https://localhost:8080/"
        },
        "id": "g7wEcq_XXv0B",
        "outputId": "3868ea76-a3ca-4908-f344-8bd183b75248"
      },
      "execution_count": null,
      "outputs": [
        {
          "output_type": "stream",
          "name": "stdout",
          "text": [
            "1\n",
            "2\n",
            "3\n",
            "4\n",
            "5\n",
            "6\n",
            "7\n",
            "8\n",
            "9\n",
            "10\n"
          ]
        }
      ]
    },
    {
      "cell_type": "markdown",
      "source": [
        "#ANSWER-13"
      ],
      "metadata": {
        "id": "q23vEowYaIqR"
      }
    },
    {
      "cell_type": "code",
      "source": [
        "#Write a Python program to find the sum of all even numbers between 1 and 50\n",
        "for i in range(2,51,2):\n",
        "  print(i)\n"
      ],
      "metadata": {
        "colab": {
          "base_uri": "https://localhost:8080/"
        },
        "id": "Kvyu-OlvaF-Q",
        "outputId": "9e16f868-1394-4ae9-bda8-50e4759b3849"
      },
      "execution_count": null,
      "outputs": [
        {
          "output_type": "stream",
          "name": "stdout",
          "text": [
            "2\n",
            "4\n",
            "6\n",
            "8\n",
            "10\n",
            "12\n",
            "14\n",
            "16\n",
            "18\n",
            "20\n",
            "22\n",
            "24\n",
            "26\n",
            "28\n",
            "30\n",
            "32\n",
            "34\n",
            "36\n",
            "38\n",
            "40\n",
            "42\n",
            "44\n",
            "46\n",
            "48\n",
            "50\n"
          ]
        }
      ]
    },
    {
      "cell_type": "markdown",
      "source": [
        "#ANSWER-15"
      ],
      "metadata": {
        "id": "N01FafkjcROl"
      }
    },
    {
      "cell_type": "code",
      "source": [
        "#Write a Python program to calculate the factorial of a number provided by the user using a while loop?\n",
        "number = int(input(\"Enter a integer: \"))\n",
        "factorial = 1\n",
        "\n",
        "if number < 0:\n",
        "    print(\"Factorial is not defined for negative numbers.\")\n",
        "elif number == 0:\n",
        "    print(\"The factorial of 0 is 1\")\n",
        "else:\n",
        "    while number > 0:\n",
        "        factorial *= number\n",
        "        number -= 1\n",
        "    print(\"The factorial is\" , factorial)\n"
      ],
      "metadata": {
        "id": "58phY8rzflWt",
        "colab": {
          "base_uri": "https://localhost:8080/"
        },
        "outputId": "a75aba53-841e-4dc1-8a95-a57d72f285e3"
      },
      "execution_count": 6,
      "outputs": [
        {
          "output_type": "stream",
          "name": "stdout",
          "text": [
            "Enter a integer: 5\n",
            "The factorial is 120\n"
          ]
        }
      ]
    },
    {
      "cell_type": "markdown",
      "source": [
        "#ANSWER-14"
      ],
      "metadata": {
        "id": "6yqGqtF2Se8l"
      }
    },
    {
      "cell_type": "code",
      "source": [
        "#Write a program to reverse a string using a while loop\n"
      ],
      "metadata": {
        "id": "z6Yn2WnqSh_S"
      },
      "execution_count": null,
      "outputs": []
    }
  ]
}